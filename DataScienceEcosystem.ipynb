{
  "cells": [
    {
      "cell_type": "markdown",
      "metadata": {
        "id": "CD0039quQAHP"
      },
      "source": [
        "# Data Science Tools and Ecosystems\n"
      ]
    },
    {
      "cell_type": "markdown",
      "metadata": {
        "id": "t67W37UqRGu0"
      },
      "source": [
        "In this notebook, Data Science Tools and Ecosystems are summarized\n"
      ]
    },
    {
      "cell_type": "markdown",
      "metadata": {
        "id": "9wDaDj9zF-6t"
      },
      "source": [
        "**Objectives**\n",
        "\n",
        "*   Some popular languages for Data Science\n",
        "*   Some commanly used libraries by Data Scientist   \n",
        "*   Some Data Science Tools"
      ]
    },
    {
      "cell_type": "markdown",
      "metadata": {
        "id": "v-P6Xbk9Rtsh"
      },
      "source": [
        "Some popular languages that Data Scientist use are:"
      ]
    },
    {
      "cell_type": "markdown",
      "metadata": {
        "id": "dUaVKz5KR6kA"
      },
      "source": [
        "\n",
        "\n",
        "1.   Python\n",
        "2.   R\n",
        "3.   Structured Query Language(SQL)\n",
        "\n"
      ]
    },
    {
      "cell_type": "markdown",
      "metadata": {
        "id": "5TMm4E8oSY1y"
      },
      "source": [
        "Some of the commanly used libraries by Data Scientist include:\n",
        "\n",
        "\n",
        "1.   Pandas\n",
        "2.   Numpy\n",
        "3.   Scikit-learn\n",
        "4.   TenserFlow\n",
        "5.   Matplotlib\n"
      ]
    },
    {
      "cell_type": "markdown",
      "metadata": {
        "id": "sfvU2dxIT0q4"
      },
      "source": [
        "|Data Science Tools|\n",
        "--------------------\n",
        "|Apache Spark|\n",
        "|Apache Hadoop|\n",
        "|Jupyter notebook|\n",
        "|R studio|\n"
      ]
    },
    {
      "cell_type": "markdown",
      "metadata": {
        "id": "If3iNBN-3yBI"
      },
      "source": [
        "### Below are a few examples of evaluating arithmetic expressions in Python.\n",
        "\n"
      ]
    },
    {
      "cell_type": "code",
      "execution_count": null,
      "metadata": {
        "id": "LlRtj5YB4CPk"
      },
      "outputs": [],
      "source": [
        "# This a simple arithmetic expression to mutiply then add integers.\n",
        "(3*4)+5"
      ]
    },
    {
      "cell_type": "code",
      "execution_count": null,
      "metadata": {
        "id": "wvF1V-GV4lHy"
      },
      "outputs": [],
      "source": [
        "# This will convert 200 minutes to hours by diving by 60.\n",
        "print(f\"{200/60} hours\")"
      ]
    },
    {
      "cell_type": "markdown",
      "metadata": {
        "id": "VZ4uSgptHeVq"
      },
      "source": [
        "## Author\n",
        "Ashwin Chaware"
      ]
    }
  ],
  "metadata": {
    "colab": {
      "provenance": []
    },
    "kernelspec": {
      "display_name": "Python 3",
      "name": "python3"
    },
    "language_info": {
      "codemirror_mode": {
        "name": "ipython",
        "version": 3
      },
      "file_extension": ".py",
      "mimetype": "text/x-python",
      "name": "python",
      "nbconvert_exporter": "python",
      "pygments_lexer": "ipython3",
      "version": "3.12.4"
    }
  },
  "nbformat": 4,
  "nbformat_minor": 0
}
